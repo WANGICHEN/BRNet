{
 "cells": [
  {
   "cell_type": "markdown",
   "metadata": {
    "tags": []
   },
   "source": [
    "## 手工調整CSV檔後，改名為file_pairs.csv\n"
   ]
  },
  {
   "cell_type": "code",
   "execution_count": 2,
   "metadata": {},
   "outputs": [],
   "source": [
    "import numpy as np\n",
    "import pandas as pd\n",
    "import h5py\n",
    "from bcgunet import bcgunet\n",
    "import glob\n",
    "from os.path import *\n",
    "from scipy.io import savemat, loadmat\n",
    "import os\n",
    "import matplotlib.pyplot as plt\n",
    "from tqdm import tqdm"
   ]
  },
  {
   "cell_type": "code",
   "execution_count": 3,
   "metadata": {},
   "outputs": [
    {
     "name": "stdout",
     "output_type": "stream",
     "text": [
      "/NFS/ichen/noscan/170320_CLY/eyeopen_noscan.mat /NFS/ichen/noscan/170320_CLY/eyeclose_noscan.mat\n",
      "/NFS/ichen/noscan/170320_CLY/eyeopen_noscan.mat /NFS/ichen/noscan/170320_CLY/eyeclose2_noscan.mat\n",
      "/NFS/ichen/noscan/170320_CLY/eyeopen2_noscan.mat /NFS/ichen/noscan/170320_CLY/eyeclose_noscan.mat\n",
      "/NFS/ichen/noscan/170320_CLY/eyeopen2_noscan.mat /NFS/ichen/noscan/170320_CLY/eyeclose2_noscan.mat\n",
      "/NFS/ichen/noscan/170327_PYL/eyeopen_noscan.mat /NFS/ichen/noscan/170327_PYL/eyeclose_noscan.mat\n",
      "/NFS/ichen/noscan/170407_FJL/eyeopen_noscan_1.mat /NFS/ichen/noscan/170407_FJL/eyeclose_noscan_1.mat\n",
      "/NFS/ichen/noscan/170410_YFK/eyeopen_noscan_1.mat /NFS/ichen/noscan/170410_YFK/eyeclose_noscan_1.mat\n",
      "/NFS/ichen/noscan/170414_CLC/eyeopen_noscan_1.mat /NFS/ichen/noscan/170414_CLC/eyeclose_noscan_1.mat\n",
      "/NFS/ichen/noscan/170425_SYH/eyeopen_noscan_1.mat /NFS/ichen/noscan/170425_SYH/eyeclose_noscan_1.mat\n",
      "/NFS/ichen/noscan/170531_SYH/noscan_eyeopen_run1.mat /NFS/ichen/noscan/170531_SYH/noscan_eyeclose_run1.mat\n",
      "/NFS/ichen/noscan/170531_SYH/noscan_eyeopen_run1.mat /NFS/ichen/noscan/170531_SYH/noscan_eyeclose_run2.mat\n",
      "/NFS/ichen/noscan/170531_SYH/noscan_eyeopen_run2.mat /NFS/ichen/noscan/170531_SYH/noscan_eyeclose_run1.mat\n",
      "/NFS/ichen/noscan/170531_SYH/noscan_eyeopen_run2.mat /NFS/ichen/noscan/170531_SYH/noscan_eyeclose_run2.mat\n",
      "/NFS/ichen/noscan/170607_YWO/eyeopen_noscan_1.mat /NFS/ichen/noscan/170607_YWO/eyeclose_noscan_1.mat\n",
      "/NFS/ichen/noscan/170623_THC/eyeopen_noscan_normal_1.mat /NFS/ichen/noscan/170623_THC/eyeclose_noscan_normal_1.mat\n",
      "/NFS/ichen/noscan/170628_WLT/eyeopen_noscan_normal_1.mat /NFS/ichen/noscan/170628_WLT/eyeclose_noscan_normal_1.mat\n",
      "/NFS/ichen/noscan/170630_WTT/eyeopen_noscan_normal_1.mat /NFS/ichen/noscan/170630_WTT/eyeclose_noscan_normal_1.mat\n",
      "/NFS/ichen/noscan/170705_PYH/eyeopen_noscan_normal_1.mat /NFS/ichen/noscan/170705_PYH/eyeclose_noscan_normal_1.mat\n",
      "/NFS/ichen/noscan/170719_WTT/eyeopen_noscan_normal_1.mat /NFS/ichen/noscan/170719_WTT/eyeclose_noscan_normal_1.mat\n",
      "/NFS/ichen/noscan/170726_CFD/eyeopen_noscan_normal_1.mat /NFS/ichen/noscan/170726_CFD/eyeclose_noscan_normal_1.mat\n",
      "/NFS/ichen/noscan/170728_BHR/eyeopen_noscan_normal_1.mat /NFS/ichen/noscan/170728_BHR/eyeclose_noscan_normal_1.mat\n",
      "/NFS/ichen/noscan/170804_CYH/eyeopen_noscan_1.mat /NFS/ichen/noscan/170804_CYH/eyeclose_noscan_1.mat\n",
      "/NFS/ichen/noscan/170807_CPL/eyeopen_noscan_1.mat /NFS/ichen/noscan/170807_CPL/eyeclose_noscan_1.mat\n",
      "/NFS/ichen/noscan/170816_SYH/eyeopen_noscan_1.mat /NFS/ichen/noscan/170816_SYH/eyeclose_noscan_1.mat\n",
      "/NFS/ichen/noscan/170818_NYC/eyeopen_noscan_1.mat /NFS/ichen/noscan/170818_NYC/eyeclose_noscan_1.mat\n",
      "/NFS/ichen/noscan/170828_RHW/eyeopen_noscan_normal_1.mat /NFS/ichen/noscan/170828_RHW/eyeclose_noscan_normal_1.mat\n",
      "/NFS/ichen/noscan/170830_ZYW/eyeopen_noscan_1.mat /NFS/ichen/noscan/170830_ZYW/eyeclose_noscan_1.mat\n"
     ]
    }
   ],
   "source": [
    "ffs = glob.glob(r'/NFS/ichen/noscan/*/*open*')\n",
    "ffs1 = []\n",
    "for f in ffs:\n",
    "    if not '_bcgnet.mat' in f:\n",
    "        ffs1.append(f)\n",
    "        \n",
    "ffs = glob.glob(r'/NFS/ichen/noscan/*/*close*')\n",
    "ffs2 = []\n",
    "for f in ffs:\n",
    "    if not '_bcgnet.mat' in f:\n",
    "        ffs2.append(f)\n",
    "        \n",
    "ff_pair = []\n",
    "for f1 in ffs1:\n",
    "    temp1 = dirname(f1)\n",
    "    for f2 in ffs2:\n",
    "        temp2 = dirname(f2)        \n",
    "        \n",
    "        if temp1 == temp2:\n",
    "            ff_pair.append([f1, f2])\n",
    "            print(f1, f2)\n",
    "            \n",
    "ff_pair_df = pd.DataFrame(ff_pair, columns=['File1', 'File2'])\n",
    "ff_pair_df.to_csv('file_pairs0.csv', index=False)\n"
   ]
  },
  {
   "cell_type": "code",
   "execution_count": 7,
   "metadata": {},
   "outputs": [
    {
     "name": "stdout",
     "output_type": "stream",
     "text": [
      "/NFS/ichen/BCGNET_result/170320_CLY/eyeopen2_noscan_bcgnet.mat /NFS/ichen/BCGNET_result/170320_CLY/eyeclose2_noscan_bcgnet.mat\n",
      "/NFS/ichen/BCGNET_result/170320_CLY/eyeopen2_noscan_bcgnet.mat /NFS/ichen/BCGNET_result/170320_CLY/eyeclose_noscan_bcgnet.mat\n",
      "/NFS/ichen/BCGNET_result/170320_CLY/eyeopen_noscan_bcgnet.mat /NFS/ichen/BCGNET_result/170320_CLY/eyeclose2_noscan_bcgnet.mat\n",
      "/NFS/ichen/BCGNET_result/170320_CLY/eyeopen_noscan_bcgnet.mat /NFS/ichen/BCGNET_result/170320_CLY/eyeclose_noscan_bcgnet.mat\n",
      "/NFS/ichen/BCGNET_result/170327_PYL/eyeopen_noscan_bcgnet.mat /NFS/ichen/BCGNET_result/170327_PYL/eyeclose_noscan_bcgnet.mat\n",
      "/NFS/ichen/BCGNET_result/170407_FJL/eyeopen_noscan_1_bcgnet.mat /NFS/ichen/BCGNET_result/170407_FJL/eyeclose_noscan_1_bcgnet.mat\n",
      "/NFS/ichen/BCGNET_result/170410_YFK/eyeopen_noscan_1_bcgnet.mat /NFS/ichen/BCGNET_result/170410_YFK/eyeclose_noscan_1_bcgnet.mat\n",
      "/NFS/ichen/BCGNET_result/170414_CLC/eyeopen_noscan_1_bcgnet.mat /NFS/ichen/BCGNET_result/170414_CLC/eyeclose_noscan_1_bcgnet.mat\n",
      "/NFS/ichen/BCGNET_result/170425_SYH/eyeopen_noscan_1_bcgnet.mat /NFS/ichen/BCGNET_result/170425_SYH/eyeclose_noscan_1_bcgnet.mat\n",
      "/NFS/ichen/BCGNET_result/170531_SYH/noscan_eyeopen_run1_bcgnet.mat /NFS/ichen/BCGNET_result/170531_SYH/noscan_eyeclose_run1_bcgnet.mat\n",
      "/NFS/ichen/BCGNET_result/170531_SYH/noscan_eyeopen_run1_bcgnet.mat /NFS/ichen/BCGNET_result/170531_SYH/noscan_eyeclose_run2_bcgnet.mat\n",
      "/NFS/ichen/BCGNET_result/170531_SYH/noscan_eyeopen_run2_bcgnet.mat /NFS/ichen/BCGNET_result/170531_SYH/noscan_eyeclose_run1_bcgnet.mat\n",
      "/NFS/ichen/BCGNET_result/170531_SYH/noscan_eyeopen_run2_bcgnet.mat /NFS/ichen/BCGNET_result/170531_SYH/noscan_eyeclose_run2_bcgnet.mat\n",
      "/NFS/ichen/BCGNET_result/170607_YWO/eyeopen_noscan_1_bcgnet.mat /NFS/ichen/BCGNET_result/170607_YWO/eyeclose_noscan_1_bcgnet.mat\n",
      "/NFS/ichen/BCGNET_result/170623_THC/eyeopen_noscan_normal_1_bcgnet.mat /NFS/ichen/BCGNET_result/170623_THC/eyeclose_noscan_normal_1_bcgnet.mat\n",
      "/NFS/ichen/BCGNET_result/170628_WLT/eyeopen_noscan_normal_1_bcgnet.mat /NFS/ichen/BCGNET_result/170628_WLT/eyeclose_noscan_normal_1_bcgnet.mat\n",
      "/NFS/ichen/BCGNET_result/170630_WTT/eyeopen_noscan_normal_1_bcgnet.mat /NFS/ichen/BCGNET_result/170630_WTT/eyeclose_noscan_normal_1_bcgnet.mat\n",
      "/NFS/ichen/BCGNET_result/170705_PYH/eyeopen_noscan_normal_1_bcgnet.mat /NFS/ichen/BCGNET_result/170705_PYH/eyeclose_noscan_normal_1_bcgnet.mat\n",
      "/NFS/ichen/BCGNET_result/170719_WTT/eyeopen_noscan_normal_1_bcgnet.mat /NFS/ichen/BCGNET_result/170719_WTT/eyeclose_noscan_normal_1_bcgnet.mat\n",
      "/NFS/ichen/BCGNET_result/170726_CFD/eyeopen_noscan_normal_1_bcgnet.mat /NFS/ichen/BCGNET_result/170726_CFD/eyeclose_noscan_normal_1_bcgnet.mat\n",
      "/NFS/ichen/BCGNET_result/170728_BHR/eyeopen_noscan_normal_1_bcgnet.mat /NFS/ichen/BCGNET_result/170728_BHR/eyeclose_noscan_normal_1_bcgnet.mat\n",
      "/NFS/ichen/BCGNET_result/170804_CYH/eyeopen_noscan_1_bcgnet.mat /NFS/ichen/BCGNET_result/170804_CYH/eyeclose_noscan_1_bcgnet.mat\n",
      "/NFS/ichen/BCGNET_result/170807_CPL/eyeopen_noscan_1_bcgnet.mat /NFS/ichen/BCGNET_result/170807_CPL/eyeclose_noscan_1_bcgnet.mat\n",
      "/NFS/ichen/BCGNET_result/170816_SYH/eyeopen_noscan_1_bcgnet.mat /NFS/ichen/BCGNET_result/170816_SYH/eyeclose_noscan_1_bcgnet.mat\n",
      "/NFS/ichen/BCGNET_result/170818_NYC/eyeopen_noscan_1_bcgnet.mat /NFS/ichen/BCGNET_result/170818_NYC/eyeclose_noscan_1_bcgnet.mat\n",
      "/NFS/ichen/BCGNET_result/170828_RHW/eyeopen_noscan_normal_1_bcgnet.mat /NFS/ichen/BCGNET_result/170828_RHW/eyeclose_noscan_normal_1_bcgnet.mat\n",
      "/NFS/ichen/BCGNET_result/170830_ZYW/eyeopen_noscan_1_bcgnet.mat /NFS/ichen/BCGNET_result/170830_ZYW/eyeclose_noscan_1_bcgnet.mat\n"
     ]
    }
   ],
   "source": [
    "ffs = glob.glob(r'/NFS/ichen/BCGNET_result/*/*open*')\n",
    "ffs1 = []\n",
    "for f in ffs:\n",
    "    ffs1.append(f)\n",
    "        \n",
    "ffs = glob.glob(r'/NFS/ichen/BCGNET_result/*/*close*')\n",
    "ffs2 = []\n",
    "for f in ffs:\n",
    "    ffs2.append(f)\n",
    "        \n",
    "ff_pair = []\n",
    "for f1 in ffs1:\n",
    "    temp1 = dirname(f1)\n",
    "    for f2 in ffs2:\n",
    "        temp2 = dirname(f2)        \n",
    "        \n",
    "        if temp1 == temp2:\n",
    "            ff_pair.append([f1, f2])\n",
    "            print(f1, f2)\n",
    "            \n",
    "ff_pair_df = pd.DataFrame(ff_pair, columns=['File1', 'File2'])\n",
    "ff_pair_df.to_csv('file_BCGNET_result.csv', index=False)"
   ]
  }
 ],
 "metadata": {
  "kernelspec": {
   "display_name": "Python 3 (ipykernel)",
   "language": "python",
   "name": "python3"
  },
  "language_info": {
   "codemirror_mode": {
    "name": "ipython",
    "version": 3
   },
   "file_extension": ".py",
   "mimetype": "text/x-python",
   "name": "python",
   "nbconvert_exporter": "python",
   "pygments_lexer": "ipython3",
   "version": "3.7.12"
  },
  "vscode": {
   "interpreter": {
    "hash": "e4cce46d6be9934fbd27f9ca0432556941ea5bdf741d4f4d64c6cd7f8dfa8fba"
   }
  }
 },
 "nbformat": 4,
 "nbformat_minor": 4
}
