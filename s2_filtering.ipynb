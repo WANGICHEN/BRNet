{
 "cells": [
  {
   "cell_type": "code",
   "execution_count": 10,
   "metadata": {},
   "outputs": [],
   "source": [
    "import warnings\n",
    "warnings.simplefilter('ignore')\n",
    "\n",
    "import numpy as np\n",
    "import pandas as pd\n",
    "from brnet import brnet\n",
    "import glob\n",
    "from os.path import *\n",
    "from scipy.io import savemat, loadmat\n",
    "import os\n",
    "import matplotlib.pyplot as plt\n",
    "from tqdm import tqdm\n",
    "\n",
    "import time"
   ]
  },
  {
   "cell_type": "code",
   "execution_count": 11,
   "metadata": {},
   "outputs": [],
   "source": [
    "def downsample(signal, sfreq, downsample_factor=10):\n",
    "    #return signal\n",
    "    from scipy.signal import decimate \n",
    "    if sfreq==5000:\n",
    "        signal = decimate(signal, downsample_factor, axis=1)\n",
    "    return signal\n",
    "    "
   ]
  },
  {
   "cell_type": "code",
   "execution_count": 18,
   "metadata": {},
   "outputs": [],
   "source": [
    "def training(ffs, window_sec = 4, kernel_list = [3], folder = None, up_weight = [0,0,0,0], iter_num = 10000, lr_sche = 'step'):\n",
    "    #window_sec:epoch長度\n",
    "    #kernel_list:BRNet kernel size\n",
    "    #folder:訊號存入位子\n",
    "    #up_weight\n",
    "    #iter_num:iteration number\n",
    "    #le_sche:learning rate scheduler\n",
    "    \n",
    "    for f in ffs:\n",
    "        mat = loadmat(f)\n",
    "        downsample_factor=10\n",
    "        sfreq = mat['sfreq_open'].flatten()[0]\n",
    "        EEG_open = downsample(mat['EEG_before_bcg_open'], sfreq, downsample_factor=downsample_factor)\n",
    "        ECG_open = downsample(mat['ECG_open'], sfreq, downsample_factor=downsample_factor)\n",
    "\n",
    "\n",
    "        sfreq = mat['sfreq_close'].flatten()[0]\n",
    "        EEG_close = downsample(mat['EEG_before_bcg_close'], sfreq, downsample_factor=downsample_factor)\n",
    "        ECG_close = downsample(mat['ECG_close'], sfreq, downsample_factor=downsample_factor)\n",
    "\n",
    "        if sfreq == 5000:\n",
    "            sfreq = sfreq / downsample_factor\n",
    "        sfreq = int(sfreq)\n",
    "\n",
    "        label = ['Fp1', 'Fp2', 'F3', 'F4', 'C3', 'C4', 'P3', 'P4', 'O1',\n",
    "             'O2', 'F7', 'F8', 'T7', 'T8', 'P7', 'P8', 'Fz', 'Cz',\n",
    "             'Pz', 'Oz', 'FC1', 'FC2', 'CP1', 'CP2', 'FC5', 'FC6',\n",
    "             'CP5', 'CP6', 'TP9', 'TP10', 'POz']\n",
    "\n",
    "        if not isdir(f\"filtered/{folder}\"):\n",
    "            os.makedirs(f\"filtered/{folder}\", mode=0o777)\n",
    "        npz_f = basename(f).replace('combined.mat', 'brnet.npz')\n",
    "        EEG_f_open = brnet.run(EEG_open, ECG_open,\n",
    "                                 kernels=[3], pretrain=False, winsize_sec = window_sec, sfreq=sfreq, iter_num = iter_num, up_weight = up_weight, lr_sche = lr_sche)  #iter_num=10000\n",
    "        EEG_f_close = brnet.run(EEG_close, ECG_close,\n",
    "                                  kernels=[3], pretrain=False, winsize_sec = window_sec, sfreq=sfreq, iter_num = iter_num, up_weight = up_weight,  lr_sche = lr_sche)    #iter_num=10000\n",
    "\n",
    "        minlen = min(EEG_f_open.shape[1], EEG_f_close.shape[1])\n",
    "\n",
    "        EEG_f_open = EEG_f_open[:, :minlen]\n",
    "        EEG_f_close = EEG_f_close[:, :minlen]\n",
    "\n",
    "        np.savez_compressed(f'filtered/{folder}/{npz_f}',\n",
    "                            open=EEG_f_open, close=EEG_f_close, ECG_open=ECG_open, ECG_close = ECG_close, label=label, sfreq=sfreq)"
   ]
  },
  {
   "cell_type": "markdown",
   "metadata": {},
   "source": [
    "## Onecase"
   ]
  },
  {
   "cell_type": "code",
   "execution_count": 19,
   "metadata": {},
   "outputs": [
    {
     "name": "stderr",
     "output_type": "stream",
     "text": [
      "Loss 125.054, lr: 0.00001: 100% 15000/15000 [01:35<00:00, 157.39it/s]\n",
      "Loss 206.640, lr: 0.00003: 100% 15000/15000 [01:33<00:00, 159.72it/s]\n"
     ]
    }
   ],
   "source": [
    "#onecase\n",
    "ffs = glob.glob('data/*CYH*_combined.mat')\n",
    "\n",
    "folder = 'onecase_result'\n",
    "iter_num = 15000\n",
    "window_sec = 2\n",
    "up_weight = [0,0,0,0]\n",
    "lr_sche = 'cosine'\n",
    "\n",
    "training(ffs, folder = folder, window_sec = window_sec, up_weight = up_weight, iter_num = iter_num, lr_sche = lr_sche)"
   ]
  },
  {
   "cell_type": "code",
   "execution_count": null,
   "metadata": {},
   "outputs": [],
   "source": []
  }
 ],
 "metadata": {
  "kernelspec": {
   "display_name": "Python [conda env:base] *",
   "language": "python",
   "name": "conda-base-py"
  },
  "language_info": {
   "codemirror_mode": {
    "name": "ipython",
    "version": 3
   },
   "file_extension": ".py",
   "mimetype": "text/x-python",
   "name": "python",
   "nbconvert_exporter": "python",
   "pygments_lexer": "ipython3",
   "version": "3.10.14"
  },
  "vscode": {
   "interpreter": {
    "hash": "e4cce46d6be9934fbd27f9ca0432556941ea5bdf741d4f4d64c6cd7f8dfa8fba"
   }
  }
 },
 "nbformat": 4,
 "nbformat_minor": 4
}
